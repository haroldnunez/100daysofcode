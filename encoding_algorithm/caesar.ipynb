{
  "nbformat": 4,
  "nbformat_minor": 0,
  "metadata": {
    "colab": {
      "name": "caesar.ipynb",
      "provenance": [],
      "authorship_tag": "ABX9TyMzh42zX1VvFn4/3D9XU6PZ",
      "include_colab_link": true
    },
    "kernelspec": {
      "name": "python3",
      "display_name": "Python 3"
    },
    "language_info": {
      "name": "python"
    }
  },
  "cells": [
    {
      "cell_type": "markdown",
      "metadata": {
        "id": "view-in-github",
        "colab_type": "text"
      },
      "source": [
        "<a href=\"https://colab.research.google.com/github/haroldnunez/100daysofcode/blob/main/encoding_algorithm/caesar.ipynb\" target=\"_parent\"><img src=\"https://colab.research.google.com/assets/colab-badge.svg\" alt=\"Open In Colab\"/></a>"
      ]
    },
    {
      "cell_type": "code",
      "execution_count": 122,
      "metadata": {
        "colab": {
          "base_uri": "https://localhost:8080/"
        },
        "id": "Fk49LvNanMuF",
        "outputId": "2019d63d-d9c3-441e-f7ff-fdbaf32b4f09"
      },
      "outputs": [
        {
          "output_type": "stream",
          "name": "stdout",
          "text": [
            "Type 'encode' to encrypt, type 'decode' to decrypt:\n",
            "decode\n",
            "Type your message:\n",
            "djwjmjabujpo\n",
            "Type the shift number:\n",
            "27\n",
            "Your text is civilization\n"
          ]
        }
      ],
      "source": [
        "alphabet = ['a', 'b', 'c', 'd', 'e', 'f', 'g', 'h', 'i', 'j', 'k', 'l', 'm', 'n', 'o', 'p', 'q', 'r', 's', 't', 'u', 'v', 'w', 'x', 'y', 'z']\n",
        "direction = input(\"Type 'encode' to encrypt, type 'decode' to decrypt:\\n\").lower()\n",
        "text = input(\"Type your message:\\n\").lower()\n",
        "shift = int(input(\"Type the shift number:\\n\"))\n",
        "def caesar(input_text, input_shift, direction):\n",
        "    text_output = \"\"\n",
        "    if direction == \"decode\":\n",
        "        input_shift *= -1\n",
        "    for char in input_text:\n",
        "      position = alphabet.index(char)\n",
        "      text_output += alphabet[(position+input_shift)%26]\n",
        "    print(f\"Your text is {text_output}\")\n",
        "caesar(input_text = text, input_shift = shift, direction = direction)"
      ]
    }
  ]
}