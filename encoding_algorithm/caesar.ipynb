{
  "nbformat": 4,
  "nbformat_minor": 0,
  "metadata": {
    "colab": {
      "name": "caesar.ipynb",
      "provenance": [],
      "authorship_tag": "ABX9TyO9cQURWMr/dZ+jADMtaGKJ"
    },
    "kernelspec": {
      "name": "python3",
      "display_name": "Python 3"
    },
    "language_info": {
      "name": "python"
    }
  },
  "cells": [
    {
      "cell_type": "code",
      "execution_count": null,
      "metadata": {
        "id": "Fk49LvNanMuF"
      },
      "outputs": [],
      "source": [
        "alphabet = ['a', 'b', 'c', 'd', 'e', 'f', 'g', 'h', 'i', 'j', 'k', 'l', 'm', 'n', 'o', 'p', 'q', 'r', 's', 't', 'u', 'v', 'w', 'x', 'y', 'z']\n",
        "direction = input(\"Type 'encode' to encrypt, type 'decode' to decrypt:\\n\").lower()\n",
        "text = input(\"Type your message:\\n\").lower()\n",
        "shift = int(input(\"Type the shift number:\\n\"))\n",
        "def caesar(input_text, input_shift, direction):\n",
        "    text_output = \"\"\n",
        "    list_text = []\n",
        "    for letter in input_text:\n",
        "      list_text += [alphabet.index(letter)]\n",
        "    for element in list_text:\n",
        "      if direction == \"encode\":\n",
        "        text_output += alphabet[(element+input_shift)%26]\n",
        "      elif direction == \"decode\":\n",
        "        text_output += alphabet[(element-input_shift)%26]\n",
        "    print(f\"Your text is {text_output}\")\n",
        "caesar(input_text = text, input_shift = shift, direction = direction)"
      ]
    }
  ]
}