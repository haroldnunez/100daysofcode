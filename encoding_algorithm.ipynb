{
  "nbformat": 4,
  "nbformat_minor": 0,
  "metadata": {
    "colab": {
      "name": "encoding_algorithm.ipynb",
      "provenance": [],
      "authorship_tag": "ABX9TyO9cQURWMr/dZ+jADMtaGKJ",
      "include_colab_link": true
    },
    "kernelspec": {
      "name": "python3",
      "display_name": "Python 3"
    },
    "language_info": {
      "name": "python"
    }
  },
  "cells": [
    {
      "cell_type": "markdown",
      "metadata": {
        "id": "view-in-github",
        "colab_type": "text"
      },
      "source": [
        "<a href=\"https://colab.research.google.com/github/haroldnunez/100daysofcode/blob/main/encoding_algorithm.ipynb\" target=\"_parent\"><img src=\"https://colab.research.google.com/assets/colab-badge.svg\" alt=\"Open In Colab\"/></a>"
      ]
    },
    {
      "cell_type": "code",
      "execution_count": 103,
      "metadata": {
        "colab": {
          "base_uri": "https://localhost:8080/"
        },
        "id": "Fk49LvNanMuF",
        "outputId": "2220ac8d-61dd-4fdb-d9f3-3a8a9e71e8cf"
      },
      "outputs": [
        {
          "output_type": "stream",
          "name": "stdout",
          "text": [
            "Type 'encode' to encrypt, type 'decode' to decrypt:\n",
            "decode\n",
            "Type your message:\n",
            "ryvk\n",
            "Type the shift number:\n",
            "10\n",
            "Your text is hola\n"
          ]
        }
      ],
      "source": [
        "alphabet = ['a', 'b', 'c', 'd', 'e', 'f', 'g', 'h', 'i', 'j', 'k', 'l', 'm', 'n', 'o', 'p', 'q', 'r', 's', 't', 'u', 'v', 'w', 'x', 'y', 'z']\n",
        "direction = input(\"Type 'encode' to encrypt, type 'decode' to decrypt:\\n\").lower()\n",
        "text = input(\"Type your message:\\n\").lower()\n",
        "shift = int(input(\"Type the shift number:\\n\"))\n",
        "def caesar(input_text, input_shift, direction):\n",
        "    text_output = \"\"\n",
        "    list_text = []\n",
        "    for letter in input_text:\n",
        "      list_text += [alphabet.index(letter)]\n",
        "    for element in list_text:\n",
        "      if direction == \"encode\":\n",
        "        text_output += alphabet[(element+input_shift)%26]\n",
        "      elif direction == \"decode\":\n",
        "        text_output += alphabet[(element-input_shift)%26]\n",
        "    print(f\"Your text is {text_output}\")\n",
        "caesar(input_text = text, input_shift = shift, direction = direction)"
      ]
    }
  ]
}